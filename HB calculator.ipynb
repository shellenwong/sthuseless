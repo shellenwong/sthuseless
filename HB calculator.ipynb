{
 "cells": [
  {
   "cell_type": "code",
   "execution_count": 7,
   "metadata": {},
   "outputs": [],
   "source": [
    "from datetime import *"
   ]
  },
  {
   "cell_type": "code",
   "execution_count": null,
   "metadata": {},
   "outputs": [
    {
     "name": "stdout",
     "output_type": "stream",
     "text": [
      "Today: Wednesday 11, Dec 2019\n"
     ]
    }
   ],
   "source": [
    "today = date.today()\n",
    "print(\"Today: \" +  today.strftime('%A %d, %b %Y'))\n",
    "\n",
    "dob_str = input(\"What is your Date of Birth? ( please fill in in this format: dd/mm/yyyy)\")\n",
    "\n",
    "dob_data = dob_str.split(\"/\")\n",
    "dobDay = int(dob_data[0])\n",
    "dobMonth = int(dob_data[1])\n",
    "dobYear = int(dob_data[2])\n",
    "dob = date(dobYear,dobMonth,dobDay)\n",
    "\n",
    "numberOfDays = (today - dob).days \n",
    "\n",
    "age = numberOfDays // 365\n",
    "print(\"Your date of birth is \"+str(dob))\n",
    "print(\"You are \" + str(age) + \" years old.\")\n",
    "\n",
    "day = dob.strftime(\"%A\")\n",
    "print(\"You were born on a \" + day + \".\")\n",
    "\n",
    "print(\"You have spent \" + str(numberOfDays) + \" days on Earth.\")\n",
    "\n",
    "thisYear = today.year\n",
    "\n",
    "nextBirthday = date(thisYear,dobMonth,dobDay)\n",
    "if today<nextBirthday:\n",
    "    gap = (nextBirthday - today).days\n",
    "    print(\"Your birhday is in \" + str(gap) + \" days.\")\n",
    "elif  today == nextBirthday:\n",
    "    print(\"Today is your birthday! Happy Birthday!\")\n",
    "else:\n",
    "    nextBirthday = date(thisYear+1,dobMonth,dobDay)\n",
    "    gap = (nextBirthday - today).days\n",
    "    print(\"Your birthday is in \" + str(gap) + \" days.\")"
   ]
  },
  {
   "cell_type": "code",
   "execution_count": null,
   "metadata": {},
   "outputs": [],
   "source": []
  }
 ],
 "metadata": {
  "kernelspec": {
   "display_name": "Python 3",
   "language": "python",
   "name": "python3"
  },
  "language_info": {
   "codemirror_mode": {
    "name": "ipython",
    "version": 3
   },
   "file_extension": ".py",
   "mimetype": "text/x-python",
   "name": "python",
   "nbconvert_exporter": "python",
   "pygments_lexer": "ipython3",
   "version": "3.6.6"
  }
 },
 "nbformat": 4,
 "nbformat_minor": 2
}
